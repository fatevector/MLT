{
 "cells": [
  {
   "cell_type": "markdown",
   "metadata": {},
   "source": [
    "# Ансамбли моделей машинного обучения."
   ]
  },
  {
   "cell_type": "markdown",
   "metadata": {},
   "source": [
    "#### Цель лабораторной работы:"
   ]
  },
  {
   "cell_type": "markdown",
   "metadata": {},
   "source": [
    "Изучение ансамблей моделей машинного обучения."
   ]
  },
  {
   "cell_type": "markdown",
   "metadata": {},
   "source": [
    "### Задание:"
   ]
  },
  {
   "cell_type": "markdown",
   "metadata": {},
   "source": [
    "\n",
    "\n",
    "    1) Выберите набор данных (датасет) для решения задачи классификации или регресии.\n",
    "\n",
    "    2) В случае необходимости проведите удаление или заполнение пропусков и кодирование категориальных признаков.\n",
    "\n",
    "    3) С использованием метода train_test_split разделите выборку на обучающую и тестовую.\n",
    "\n",
    "    4) Обучите следующие ансамблевые модели:\n",
    "        одну из моделей группы бэггинга (бэггинг или случайный лес или сверхслучайные деревья);\n",
    "        одну из моделей группы бустинга;\n",
    "        одну из моделей группы стекинга.\n",
    "\n",
    "    5) (+1 балл на экзамене) Дополнительно к указанным моделям обучите еще две модели:\n",
    "        Модель многослойного персептрона. По желанию, вместо библиотеки scikit-learn возможно использование библиотек TensorFlow, PyTorch или других аналогичных библиотек.\n",
    "        Модель МГУА с использованием библиотеки - https://github.com/kvoyager/GmdhPy (или аналогичных библиотек). Найдите такие параметры запуска модели, при которых она будет по крайней мере не хуже, чем одна из предыдущих ансамблевых моделей.\n",
    "\n",
    "    6) Оцените качество моделей с помощью одной из подходящих для задачи метрик. Сравните качество полученных моделей.\n"
   ]
  },
  {
   "cell_type": "markdown",
   "metadata": {},
   "source": [
    "## 1) Выберите набор данных (датасет) для решения задачи классификации или регрессии.    "
   ]
  },
  {
   "cell_type": "markdown",
   "metadata": {},
   "source": [
    "### Импорт библиотек"
   ]
  },
  {
   "cell_type": "code",
   "execution_count": 2,
   "metadata": {},
   "outputs": [],
   "source": [
    "import numpy as np\n",
    "import pandas as pd\n",
    "import seaborn as sns\n",
    "import matplotlib.pyplot as plt\n",
    "from io import StringIO\n",
    "\n",
    "from sklearn import preprocessing\n",
    "from sklearn.preprocessing import LabelEncoder\n",
    "from sklearn.preprocessing import MinMaxScaler, StandardScaler, Normalizer\n",
    "from sklearn.neighbors import KNeighborsClassifier, KNeighborsRegressor\n",
    "from sklearn.metrics import accuracy_score, confusion_matrix, roc_auc_score, ConfusionMatrixDisplay, precision_score, recall_score, f1_score, classification_report, roc_curve, plot_roc_curve, auc, precision_recall_curve, plot_precision_recall_curve, average_precision_score\n",
    "from sklearn.ensemble import GradientBoostingClassifier, RandomForestClassifier\n",
    "from sklearn.model_selection import train_test_split, cross_val_score, GridSearchCV\n",
    "from sklearn.datasets import load_iris, load_boston\n",
    "from sklearn.ensemble import RandomForestRegressor\n",
    "from sklearn.linear_model import LogisticRegression, LinearRegression\n",
    "from sklearn.tree import DecisionTreeClassifier, DecisionTreeRegressor\n",
    "from sklearn.metrics import mean_absolute_error, mean_squared_error, mean_squared_log_error, median_absolute_error, r2_score \n",
    "\n",
    "\n",
    "from heamy.estimator import Regressor, Classifier\n",
    "from heamy.pipeline import ModelsPipeline\n",
    "from heamy.dataset import Dataset\n",
    "\n",
    "\n",
    "\n",
    "\n",
    "\n",
    "%matplotlib inline \n",
    "sns.set(style=\"ticks\")\n",
    "\n",
    "# скроем предупреждения о возможных ошибках для лучшей читаемости\n",
    "import warnings\n",
    "warnings.filterwarnings('ignore')"
   ]
  },
  {
   "cell_type": "markdown",
   "metadata": {},
   "source": [
    "### Смотрим на датасет"
   ]
  },
  {
   "cell_type": "code",
   "execution_count": 3,
   "metadata": {},
   "outputs": [],
   "source": [
    "data = pd.read_csv('./diabetes_binary_5050split_health_indicators_BRFSS2015.csv')"
   ]
  },
  {
   "cell_type": "code",
   "execution_count": 4,
   "metadata": {},
   "outputs": [],
   "source": [
    "df = data.sample(n=1000)"
   ]
  },
  {
   "cell_type": "code",
   "execution_count": 5,
   "metadata": {},
   "outputs": [
    {
     "data": {
      "text/plain": [
       "1.0    518\n",
       "0.0    482\n",
       "Name: Diabetes_binary, dtype: int64"
      ]
     },
     "execution_count": 5,
     "metadata": {},
     "output_type": "execute_result"
    }
   ],
   "source": [
    "df['Diabetes_binary'].value_counts()"
   ]
  },
  {
   "cell_type": "code",
   "execution_count": 6,
   "metadata": {},
   "outputs": [
    {
     "data": {
      "text/html": [
       "<div>\n",
       "<style scoped>\n",
       "    .dataframe tbody tr th:only-of-type {\n",
       "        vertical-align: middle;\n",
       "    }\n",
       "\n",
       "    .dataframe tbody tr th {\n",
       "        vertical-align: top;\n",
       "    }\n",
       "\n",
       "    .dataframe thead th {\n",
       "        text-align: right;\n",
       "    }\n",
       "</style>\n",
       "<table border=\"1\" class=\"dataframe\">\n",
       "  <thead>\n",
       "    <tr style=\"text-align: right;\">\n",
       "      <th></th>\n",
       "      <th>Diabetes_binary</th>\n",
       "      <th>HighBP</th>\n",
       "      <th>HighChol</th>\n",
       "      <th>CholCheck</th>\n",
       "      <th>BMI</th>\n",
       "      <th>Smoker</th>\n",
       "      <th>Stroke</th>\n",
       "      <th>HeartDiseaseorAttack</th>\n",
       "      <th>PhysActivity</th>\n",
       "      <th>Fruits</th>\n",
       "      <th>...</th>\n",
       "      <th>AnyHealthcare</th>\n",
       "      <th>NoDocbcCost</th>\n",
       "      <th>GenHlth</th>\n",
       "      <th>MentHlth</th>\n",
       "      <th>PhysHlth</th>\n",
       "      <th>DiffWalk</th>\n",
       "      <th>Sex</th>\n",
       "      <th>Age</th>\n",
       "      <th>Education</th>\n",
       "      <th>Income</th>\n",
       "    </tr>\n",
       "  </thead>\n",
       "  <tbody>\n",
       "    <tr>\n",
       "      <th>16255</th>\n",
       "      <td>0.0</td>\n",
       "      <td>0.0</td>\n",
       "      <td>0.0</td>\n",
       "      <td>1.0</td>\n",
       "      <td>28.0</td>\n",
       "      <td>1.0</td>\n",
       "      <td>0.0</td>\n",
       "      <td>0.0</td>\n",
       "      <td>1.0</td>\n",
       "      <td>1.0</td>\n",
       "      <td>...</td>\n",
       "      <td>1.0</td>\n",
       "      <td>0.0</td>\n",
       "      <td>2.0</td>\n",
       "      <td>0.0</td>\n",
       "      <td>30.0</td>\n",
       "      <td>0.0</td>\n",
       "      <td>1.0</td>\n",
       "      <td>12.0</td>\n",
       "      <td>6.0</td>\n",
       "      <td>8.0</td>\n",
       "    </tr>\n",
       "    <tr>\n",
       "      <th>7005</th>\n",
       "      <td>0.0</td>\n",
       "      <td>1.0</td>\n",
       "      <td>1.0</td>\n",
       "      <td>1.0</td>\n",
       "      <td>43.0</td>\n",
       "      <td>0.0</td>\n",
       "      <td>0.0</td>\n",
       "      <td>1.0</td>\n",
       "      <td>1.0</td>\n",
       "      <td>0.0</td>\n",
       "      <td>...</td>\n",
       "      <td>1.0</td>\n",
       "      <td>0.0</td>\n",
       "      <td>5.0</td>\n",
       "      <td>0.0</td>\n",
       "      <td>30.0</td>\n",
       "      <td>1.0</td>\n",
       "      <td>1.0</td>\n",
       "      <td>6.0</td>\n",
       "      <td>6.0</td>\n",
       "      <td>1.0</td>\n",
       "    </tr>\n",
       "    <tr>\n",
       "      <th>24759</th>\n",
       "      <td>0.0</td>\n",
       "      <td>1.0</td>\n",
       "      <td>1.0</td>\n",
       "      <td>1.0</td>\n",
       "      <td>30.0</td>\n",
       "      <td>1.0</td>\n",
       "      <td>0.0</td>\n",
       "      <td>0.0</td>\n",
       "      <td>0.0</td>\n",
       "      <td>1.0</td>\n",
       "      <td>...</td>\n",
       "      <td>1.0</td>\n",
       "      <td>0.0</td>\n",
       "      <td>5.0</td>\n",
       "      <td>0.0</td>\n",
       "      <td>30.0</td>\n",
       "      <td>1.0</td>\n",
       "      <td>0.0</td>\n",
       "      <td>12.0</td>\n",
       "      <td>4.0</td>\n",
       "      <td>3.0</td>\n",
       "    </tr>\n",
       "    <tr>\n",
       "      <th>32570</th>\n",
       "      <td>0.0</td>\n",
       "      <td>0.0</td>\n",
       "      <td>0.0</td>\n",
       "      <td>1.0</td>\n",
       "      <td>33.0</td>\n",
       "      <td>1.0</td>\n",
       "      <td>0.0</td>\n",
       "      <td>0.0</td>\n",
       "      <td>0.0</td>\n",
       "      <td>0.0</td>\n",
       "      <td>...</td>\n",
       "      <td>1.0</td>\n",
       "      <td>0.0</td>\n",
       "      <td>3.0</td>\n",
       "      <td>0.0</td>\n",
       "      <td>0.0</td>\n",
       "      <td>0.0</td>\n",
       "      <td>1.0</td>\n",
       "      <td>2.0</td>\n",
       "      <td>4.0</td>\n",
       "      <td>4.0</td>\n",
       "    </tr>\n",
       "    <tr>\n",
       "      <th>15217</th>\n",
       "      <td>0.0</td>\n",
       "      <td>1.0</td>\n",
       "      <td>0.0</td>\n",
       "      <td>1.0</td>\n",
       "      <td>26.0</td>\n",
       "      <td>1.0</td>\n",
       "      <td>0.0</td>\n",
       "      <td>0.0</td>\n",
       "      <td>1.0</td>\n",
       "      <td>1.0</td>\n",
       "      <td>...</td>\n",
       "      <td>1.0</td>\n",
       "      <td>0.0</td>\n",
       "      <td>1.0</td>\n",
       "      <td>0.0</td>\n",
       "      <td>0.0</td>\n",
       "      <td>1.0</td>\n",
       "      <td>1.0</td>\n",
       "      <td>11.0</td>\n",
       "      <td>4.0</td>\n",
       "      <td>8.0</td>\n",
       "    </tr>\n",
       "  </tbody>\n",
       "</table>\n",
       "<p>5 rows × 22 columns</p>\n",
       "</div>"
      ],
      "text/plain": [
       "       Diabetes_binary  HighBP  HighChol  CholCheck   BMI  Smoker  Stroke  \\\n",
       "16255              0.0     0.0       0.0        1.0  28.0     1.0     0.0   \n",
       "7005               0.0     1.0       1.0        1.0  43.0     0.0     0.0   \n",
       "24759              0.0     1.0       1.0        1.0  30.0     1.0     0.0   \n",
       "32570              0.0     0.0       0.0        1.0  33.0     1.0     0.0   \n",
       "15217              0.0     1.0       0.0        1.0  26.0     1.0     0.0   \n",
       "\n",
       "       HeartDiseaseorAttack  PhysActivity  Fruits  ...  AnyHealthcare  \\\n",
       "16255                   0.0           1.0     1.0  ...            1.0   \n",
       "7005                    1.0           1.0     0.0  ...            1.0   \n",
       "24759                   0.0           0.0     1.0  ...            1.0   \n",
       "32570                   0.0           0.0     0.0  ...            1.0   \n",
       "15217                   0.0           1.0     1.0  ...            1.0   \n",
       "\n",
       "       NoDocbcCost  GenHlth  MentHlth  PhysHlth  DiffWalk  Sex   Age  \\\n",
       "16255          0.0      2.0       0.0      30.0       0.0  1.0  12.0   \n",
       "7005           0.0      5.0       0.0      30.0       1.0  1.0   6.0   \n",
       "24759          0.0      5.0       0.0      30.0       1.0  0.0  12.0   \n",
       "32570          0.0      3.0       0.0       0.0       0.0  1.0   2.0   \n",
       "15217          0.0      1.0       0.0       0.0       1.0  1.0  11.0   \n",
       "\n",
       "       Education  Income  \n",
       "16255        6.0     8.0  \n",
       "7005         6.0     1.0  \n",
       "24759        4.0     3.0  \n",
       "32570        4.0     4.0  \n",
       "15217        4.0     8.0  \n",
       "\n",
       "[5 rows x 22 columns]"
      ]
     },
     "execution_count": 6,
     "metadata": {},
     "output_type": "execute_result"
    }
   ],
   "source": [
    "df.head()"
   ]
  },
  {
   "cell_type": "code",
   "execution_count": 7,
   "metadata": {},
   "outputs": [
    {
     "data": {
      "text/html": [
       "<div>\n",
       "<style scoped>\n",
       "    .dataframe tbody tr th:only-of-type {\n",
       "        vertical-align: middle;\n",
       "    }\n",
       "\n",
       "    .dataframe tbody tr th {\n",
       "        vertical-align: top;\n",
       "    }\n",
       "\n",
       "    .dataframe thead th {\n",
       "        text-align: right;\n",
       "    }\n",
       "</style>\n",
       "<table border=\"1\" class=\"dataframe\">\n",
       "  <thead>\n",
       "    <tr style=\"text-align: right;\">\n",
       "      <th></th>\n",
       "      <th>Diabetes_binary</th>\n",
       "      <th>HighBP</th>\n",
       "      <th>HighChol</th>\n",
       "      <th>CholCheck</th>\n",
       "      <th>BMI</th>\n",
       "      <th>Smoker</th>\n",
       "      <th>Stroke</th>\n",
       "      <th>HeartDiseaseorAttack</th>\n",
       "      <th>PhysActivity</th>\n",
       "      <th>Fruits</th>\n",
       "      <th>...</th>\n",
       "      <th>AnyHealthcare</th>\n",
       "      <th>NoDocbcCost</th>\n",
       "      <th>GenHlth</th>\n",
       "      <th>MentHlth</th>\n",
       "      <th>PhysHlth</th>\n",
       "      <th>DiffWalk</th>\n",
       "      <th>Sex</th>\n",
       "      <th>Age</th>\n",
       "      <th>Education</th>\n",
       "      <th>Income</th>\n",
       "    </tr>\n",
       "  </thead>\n",
       "  <tbody>\n",
       "    <tr>\n",
       "      <th>count</th>\n",
       "      <td>1000.000000</td>\n",
       "      <td>1000.000000</td>\n",
       "      <td>1000.000000</td>\n",
       "      <td>1000.000000</td>\n",
       "      <td>1000.000000</td>\n",
       "      <td>1000.000000</td>\n",
       "      <td>1000.000000</td>\n",
       "      <td>1000.000000</td>\n",
       "      <td>1000.00000</td>\n",
       "      <td>1000.00000</td>\n",
       "      <td>...</td>\n",
       "      <td>1000.000000</td>\n",
       "      <td>1000.000000</td>\n",
       "      <td>1000.000000</td>\n",
       "      <td>1000.000000</td>\n",
       "      <td>1000.000000</td>\n",
       "      <td>1000.000000</td>\n",
       "      <td>1000.000000</td>\n",
       "      <td>1000.000000</td>\n",
       "      <td>1000.000000</td>\n",
       "      <td>1000.000000</td>\n",
       "    </tr>\n",
       "    <tr>\n",
       "      <th>mean</th>\n",
       "      <td>0.518000</td>\n",
       "      <td>0.578000</td>\n",
       "      <td>0.539000</td>\n",
       "      <td>0.978000</td>\n",
       "      <td>30.301000</td>\n",
       "      <td>0.492000</td>\n",
       "      <td>0.054000</td>\n",
       "      <td>0.128000</td>\n",
       "      <td>0.69300</td>\n",
       "      <td>0.62200</td>\n",
       "      <td>...</td>\n",
       "      <td>0.950000</td>\n",
       "      <td>0.110000</td>\n",
       "      <td>2.871000</td>\n",
       "      <td>3.855000</td>\n",
       "      <td>6.059000</td>\n",
       "      <td>0.262000</td>\n",
       "      <td>0.460000</td>\n",
       "      <td>8.512000</td>\n",
       "      <td>4.870000</td>\n",
       "      <td>5.624000</td>\n",
       "    </tr>\n",
       "    <tr>\n",
       "      <th>std</th>\n",
       "      <td>0.499926</td>\n",
       "      <td>0.494126</td>\n",
       "      <td>0.498726</td>\n",
       "      <td>0.146757</td>\n",
       "      <td>7.828645</td>\n",
       "      <td>0.500186</td>\n",
       "      <td>0.226131</td>\n",
       "      <td>0.334257</td>\n",
       "      <td>0.46148</td>\n",
       "      <td>0.48513</td>\n",
       "      <td>...</td>\n",
       "      <td>0.218054</td>\n",
       "      <td>0.313046</td>\n",
       "      <td>1.099804</td>\n",
       "      <td>8.170847</td>\n",
       "      <td>10.215962</td>\n",
       "      <td>0.439943</td>\n",
       "      <td>0.498647</td>\n",
       "      <td>2.923423</td>\n",
       "      <td>1.007032</td>\n",
       "      <td>2.166869</td>\n",
       "    </tr>\n",
       "    <tr>\n",
       "      <th>min</th>\n",
       "      <td>0.000000</td>\n",
       "      <td>0.000000</td>\n",
       "      <td>0.000000</td>\n",
       "      <td>0.000000</td>\n",
       "      <td>15.000000</td>\n",
       "      <td>0.000000</td>\n",
       "      <td>0.000000</td>\n",
       "      <td>0.000000</td>\n",
       "      <td>0.00000</td>\n",
       "      <td>0.00000</td>\n",
       "      <td>...</td>\n",
       "      <td>0.000000</td>\n",
       "      <td>0.000000</td>\n",
       "      <td>1.000000</td>\n",
       "      <td>0.000000</td>\n",
       "      <td>0.000000</td>\n",
       "      <td>0.000000</td>\n",
       "      <td>0.000000</td>\n",
       "      <td>1.000000</td>\n",
       "      <td>2.000000</td>\n",
       "      <td>1.000000</td>\n",
       "    </tr>\n",
       "    <tr>\n",
       "      <th>25%</th>\n",
       "      <td>0.000000</td>\n",
       "      <td>0.000000</td>\n",
       "      <td>0.000000</td>\n",
       "      <td>1.000000</td>\n",
       "      <td>25.000000</td>\n",
       "      <td>0.000000</td>\n",
       "      <td>0.000000</td>\n",
       "      <td>0.000000</td>\n",
       "      <td>0.00000</td>\n",
       "      <td>0.00000</td>\n",
       "      <td>...</td>\n",
       "      <td>1.000000</td>\n",
       "      <td>0.000000</td>\n",
       "      <td>2.000000</td>\n",
       "      <td>0.000000</td>\n",
       "      <td>0.000000</td>\n",
       "      <td>0.000000</td>\n",
       "      <td>0.000000</td>\n",
       "      <td>7.000000</td>\n",
       "      <td>4.000000</td>\n",
       "      <td>4.000000</td>\n",
       "    </tr>\n",
       "    <tr>\n",
       "      <th>50%</th>\n",
       "      <td>1.000000</td>\n",
       "      <td>1.000000</td>\n",
       "      <td>1.000000</td>\n",
       "      <td>1.000000</td>\n",
       "      <td>29.000000</td>\n",
       "      <td>0.000000</td>\n",
       "      <td>0.000000</td>\n",
       "      <td>0.000000</td>\n",
       "      <td>1.00000</td>\n",
       "      <td>1.00000</td>\n",
       "      <td>...</td>\n",
       "      <td>1.000000</td>\n",
       "      <td>0.000000</td>\n",
       "      <td>3.000000</td>\n",
       "      <td>0.000000</td>\n",
       "      <td>0.000000</td>\n",
       "      <td>0.000000</td>\n",
       "      <td>0.000000</td>\n",
       "      <td>9.000000</td>\n",
       "      <td>5.000000</td>\n",
       "      <td>6.000000</td>\n",
       "    </tr>\n",
       "    <tr>\n",
       "      <th>75%</th>\n",
       "      <td>1.000000</td>\n",
       "      <td>1.000000</td>\n",
       "      <td>1.000000</td>\n",
       "      <td>1.000000</td>\n",
       "      <td>33.000000</td>\n",
       "      <td>1.000000</td>\n",
       "      <td>0.000000</td>\n",
       "      <td>0.000000</td>\n",
       "      <td>1.00000</td>\n",
       "      <td>1.00000</td>\n",
       "      <td>...</td>\n",
       "      <td>1.000000</td>\n",
       "      <td>0.000000</td>\n",
       "      <td>4.000000</td>\n",
       "      <td>3.000000</td>\n",
       "      <td>7.000000</td>\n",
       "      <td>1.000000</td>\n",
       "      <td>1.000000</td>\n",
       "      <td>11.000000</td>\n",
       "      <td>6.000000</td>\n",
       "      <td>8.000000</td>\n",
       "    </tr>\n",
       "    <tr>\n",
       "      <th>max</th>\n",
       "      <td>1.000000</td>\n",
       "      <td>1.000000</td>\n",
       "      <td>1.000000</td>\n",
       "      <td>1.000000</td>\n",
       "      <td>92.000000</td>\n",
       "      <td>1.000000</td>\n",
       "      <td>1.000000</td>\n",
       "      <td>1.000000</td>\n",
       "      <td>1.00000</td>\n",
       "      <td>1.00000</td>\n",
       "      <td>...</td>\n",
       "      <td>1.000000</td>\n",
       "      <td>1.000000</td>\n",
       "      <td>5.000000</td>\n",
       "      <td>30.000000</td>\n",
       "      <td>30.000000</td>\n",
       "      <td>1.000000</td>\n",
       "      <td>1.000000</td>\n",
       "      <td>13.000000</td>\n",
       "      <td>6.000000</td>\n",
       "      <td>8.000000</td>\n",
       "    </tr>\n",
       "  </tbody>\n",
       "</table>\n",
       "<p>8 rows × 22 columns</p>\n",
       "</div>"
      ],
      "text/plain": [
       "       Diabetes_binary       HighBP     HighChol    CholCheck          BMI  \\\n",
       "count      1000.000000  1000.000000  1000.000000  1000.000000  1000.000000   \n",
       "mean          0.518000     0.578000     0.539000     0.978000    30.301000   \n",
       "std           0.499926     0.494126     0.498726     0.146757     7.828645   \n",
       "min           0.000000     0.000000     0.000000     0.000000    15.000000   \n",
       "25%           0.000000     0.000000     0.000000     1.000000    25.000000   \n",
       "50%           1.000000     1.000000     1.000000     1.000000    29.000000   \n",
       "75%           1.000000     1.000000     1.000000     1.000000    33.000000   \n",
       "max           1.000000     1.000000     1.000000     1.000000    92.000000   \n",
       "\n",
       "            Smoker       Stroke  HeartDiseaseorAttack  PhysActivity  \\\n",
       "count  1000.000000  1000.000000           1000.000000    1000.00000   \n",
       "mean      0.492000     0.054000              0.128000       0.69300   \n",
       "std       0.500186     0.226131              0.334257       0.46148   \n",
       "min       0.000000     0.000000              0.000000       0.00000   \n",
       "25%       0.000000     0.000000              0.000000       0.00000   \n",
       "50%       0.000000     0.000000              0.000000       1.00000   \n",
       "75%       1.000000     0.000000              0.000000       1.00000   \n",
       "max       1.000000     1.000000              1.000000       1.00000   \n",
       "\n",
       "           Fruits  ...  AnyHealthcare  NoDocbcCost      GenHlth     MentHlth  \\\n",
       "count  1000.00000  ...    1000.000000  1000.000000  1000.000000  1000.000000   \n",
       "mean      0.62200  ...       0.950000     0.110000     2.871000     3.855000   \n",
       "std       0.48513  ...       0.218054     0.313046     1.099804     8.170847   \n",
       "min       0.00000  ...       0.000000     0.000000     1.000000     0.000000   \n",
       "25%       0.00000  ...       1.000000     0.000000     2.000000     0.000000   \n",
       "50%       1.00000  ...       1.000000     0.000000     3.000000     0.000000   \n",
       "75%       1.00000  ...       1.000000     0.000000     4.000000     3.000000   \n",
       "max       1.00000  ...       1.000000     1.000000     5.000000    30.000000   \n",
       "\n",
       "          PhysHlth     DiffWalk          Sex          Age    Education  \\\n",
       "count  1000.000000  1000.000000  1000.000000  1000.000000  1000.000000   \n",
       "mean      6.059000     0.262000     0.460000     8.512000     4.870000   \n",
       "std      10.215962     0.439943     0.498647     2.923423     1.007032   \n",
       "min       0.000000     0.000000     0.000000     1.000000     2.000000   \n",
       "25%       0.000000     0.000000     0.000000     7.000000     4.000000   \n",
       "50%       0.000000     0.000000     0.000000     9.000000     5.000000   \n",
       "75%       7.000000     1.000000     1.000000    11.000000     6.000000   \n",
       "max      30.000000     1.000000     1.000000    13.000000     6.000000   \n",
       "\n",
       "            Income  \n",
       "count  1000.000000  \n",
       "mean      5.624000  \n",
       "std       2.166869  \n",
       "min       1.000000  \n",
       "25%       4.000000  \n",
       "50%       6.000000  \n",
       "75%       8.000000  \n",
       "max       8.000000  \n",
       "\n",
       "[8 rows x 22 columns]"
      ]
     },
     "execution_count": 7,
     "metadata": {},
     "output_type": "execute_result"
    }
   ],
   "source": [
    "df.describe()"
   ]
  },
  {
   "cell_type": "code",
   "execution_count": 8,
   "metadata": {},
   "outputs": [
    {
     "name": "stdout",
     "output_type": "stream",
     "text": [
      "Размер набора:\n",
      "В датасете 1000 строк и 22 колонок.\n"
     ]
    }
   ],
   "source": [
    "print(\"Размер набора:\")\n",
    "print(f'В датасете {df.shape[0]} строк и {df.shape[1]} колонок.')"
   ]
  },
  {
   "cell_type": "code",
   "execution_count": 9,
   "metadata": {},
   "outputs": [
    {
     "data": {
      "text/plain": [
       "Diabetes_binary         float64\n",
       "HighBP                  float64\n",
       "HighChol                float64\n",
       "CholCheck               float64\n",
       "BMI                     float64\n",
       "Smoker                  float64\n",
       "Stroke                  float64\n",
       "HeartDiseaseorAttack    float64\n",
       "PhysActivity            float64\n",
       "Fruits                  float64\n",
       "Veggies                 float64\n",
       "HvyAlcoholConsump       float64\n",
       "AnyHealthcare           float64\n",
       "NoDocbcCost             float64\n",
       "GenHlth                 float64\n",
       "MentHlth                float64\n",
       "PhysHlth                float64\n",
       "DiffWalk                float64\n",
       "Sex                     float64\n",
       "Age                     float64\n",
       "Education               float64\n",
       "Income                  float64\n",
       "dtype: object"
      ]
     },
     "execution_count": 9,
     "metadata": {},
     "output_type": "execute_result"
    }
   ],
   "source": [
    "df.dtypes"
   ]
  },
  {
   "cell_type": "code",
   "execution_count": 10,
   "metadata": {},
   "outputs": [],
   "source": [
    "df = df.astype('int')"
   ]
  },
  {
   "cell_type": "markdown",
   "metadata": {},
   "source": [
    "## 2) В случае необходимости проведите удаление или заполнение пропусков и кодирование категориальных признаков."
   ]
  },
  {
   "cell_type": "markdown",
   "metadata": {},
   "source": [
    "### Не требуется при использовании данного датасета"
   ]
  },
  {
   "cell_type": "markdown",
   "metadata": {},
   "source": [
    "## 3) С использованием метода train_test_split разделите выборку на обучающую и тестовую."
   ]
  },
  {
   "cell_type": "code",
   "execution_count": 11,
   "metadata": {},
   "outputs": [],
   "source": [
    "X = df.drop('Diabetes_binary', axis=1)\n",
    "Y = df['Diabetes_binary']"
   ]
  },
  {
   "cell_type": "code",
   "execution_count": 12,
   "metadata": {},
   "outputs": [
    {
     "name": "stdout",
     "output_type": "stream",
     "text": [
      "(700, 21), (300, 21)\n",
      "(700,), (300,)\n"
     ]
    }
   ],
   "source": [
    "X_train, X_test, Y_train, Y_test = train_test_split(X, Y, test_size=0.3, random_state=2)\n",
    "print('{}, {}'.format(X_train.shape, X_test.shape))\n",
    "print('{}, {}'.format(Y_train.shape, Y_test.shape))"
   ]
  },
  {
   "cell_type": "markdown",
   "metadata": {},
   "source": [
    "## 4) Обучите следующие ансамблевые модели:\n",
    "\n",
    "Cлучайный лес\n",
    "\n",
    "Бустинг\n",
    "\n",
    "Стекинг"
   ]
  },
  {
   "cell_type": "code",
   "execution_count": 13,
   "metadata": {},
   "outputs": [],
   "source": [
    "# Качество отдельных моделей\n",
    "def val_mae(model):\n",
    "    model.fit(X_train, Y_train)\n",
    "    y_pred = model.predict(X_test)\n",
    "    result = mean_absolute_error(Y_test, y_pred)\n",
    "    print(model)\n",
    "    print('MAE={}'.format(result))"
   ]
  },
  {
   "cell_type": "code",
   "execution_count": 32,
   "metadata": {},
   "outputs": [
    {
     "name": "stdout",
     "output_type": "stream",
     "text": [
      "LogisticRegression()\n",
      "MAE=0.25666666666666665\n",
      "==========================\n",
      "\n",
      "DecisionTreeClassifier()\n",
      "MAE=0.33\n",
      "==========================\n",
      "\n",
      "GradientBoostingClassifier()\n",
      "MAE=0.27666666666666667\n",
      "==========================\n",
      "\n",
      "RandomForestClassifier(n_estimators=50)\n",
      "MAE=0.28\n",
      "==========================\n",
      "\n"
     ]
    }
   ],
   "source": [
    "# Точность на отдельных моделях\n",
    "for model in [\n",
    "    LogisticRegression(),\n",
    "    DecisionTreeClassifier(),\n",
    "    GradientBoostingClassifier(),\n",
    "    RandomForestClassifier(n_estimators=50)\n",
    "]:\n",
    "    val_mae(model)\n",
    "    print('==========================')\n",
    "    print()"
   ]
  },
  {
   "cell_type": "code",
   "execution_count": 33,
   "metadata": {},
   "outputs": [],
   "source": [
    "# Используем библиотеку heamy\n",
    "# набор данных\n",
    "dataset = Dataset(X_train, Y_train, X_test)\n",
    "\n",
    "# модели первого уровня\n",
    "model_tree = Regressor(dataset=dataset, estimator=DecisionTreeRegressor, name='tree')\n",
    "model_lr = Regressor(dataset=dataset, estimator=LinearRegression, parameters={'normalize': True},name='lr')\n",
    "model_rf = Regressor(dataset=dataset, estimator=RandomForestRegressor, parameters={'n_estimators': 50},name='rf')"
   ]
  },
  {
   "cell_type": "code",
   "execution_count": 34,
   "metadata": {},
   "outputs": [
    {
     "name": "stdout",
     "output_type": "stream",
     "text": [
      "Metric: mean_absolute_error\n",
      "Folds accuracy: [0.3, 0.17142857142857143, 0.32857142857142857, 0.3, 0.32857142857142857, 0.17142857142857143, 0.22857142857142856, 0.2857142857142857, 0.3142857142857143, 0.32857142857142857]\n",
      "Mean accuracy: 0.27571428571428575\n",
      "Standard Deviation: 0.059264195750547255\n",
      "Variance: 0.003512244897959183\n"
     ]
    }
   ],
   "source": [
    "# Эксперимент 1\n",
    "# Первый уровень - две модели: дерево и линейная регрессия\n",
    "# Второй уровень: линейная регрессия\n",
    "\n",
    "pipeline = ModelsPipeline(model_tree, model_lr)\n",
    "stack_ds = pipeline.stack(k=10, seed=1)\n",
    "# модель второго уровня\n",
    "stacker = Regressor(dataset=stack_ds, estimator=LogisticRegression)\n",
    "results = stacker.validate(k=10,scorer=mean_absolute_error)"
   ]
  },
  {
   "cell_type": "code",
   "execution_count": 35,
   "metadata": {},
   "outputs": [
    {
     "name": "stdout",
     "output_type": "stream",
     "text": [
      "Metric: mean_absolute_error\n",
      "Folds accuracy: [0.337, 0.3184285714285714, 0.3965714285714286, 0.34128571428571436, 0.37300000000000005, 0.3515714285714286, 0.3068571428571429, 0.3614285714285715, 0.33385714285714285, 0.4505714285714286]\n",
      "Mean accuracy: 0.35705714285714285\n",
      "Standard Deviation: 0.03976323807288357\n",
      "Variance: 0.0015811151020408171\n"
     ]
    }
   ],
   "source": [
    "# Эксперимент 2\n",
    "# Первый уровень - две модели: дерево и линейная регрессия\n",
    "# Второй уровень: случайный лес\n",
    "\n",
    "stacker = Regressor(dataset=stack_ds, estimator=RandomForestRegressor)\n",
    "results = stacker.validate(k=10,scorer=mean_absolute_error)"
   ]
  },
  {
   "cell_type": "code",
   "execution_count": 36,
   "metadata": {},
   "outputs": [
    {
     "name": "stdout",
     "output_type": "stream",
     "text": [
      "Metric: mean_absolute_error\n",
      "Folds accuracy: [0.2857142857142857, 0.18571428571428572, 0.32857142857142857, 0.3142857142857143, 0.35714285714285715, 0.18571428571428572, 0.21428571428571427, 0.2857142857142857, 0.3142857142857143, 0.32857142857142857]\n",
      "Mean accuracy: 0.28\n",
      "Standard Deviation: 0.05931582712007627\n",
      "Variance: 0.0035183673469387756\n"
     ]
    }
   ],
   "source": [
    "# Эксперимент 3\n",
    "# Первый уровень - три модели: дерево, линейная регрессия и случайный лес\n",
    "# Второй уровень: линейная регрессия\n",
    "pipeline = ModelsPipeline(model_tree, model_lr, model_rf)\n",
    "stack_ds3 = pipeline.stack(k=10, seed=1)\n",
    "# модель второго уровня\n",
    "stacker = Regressor(dataset=stack_ds3, estimator=LogisticRegression)\n",
    "results = stacker.validate(k=10,scorer=mean_absolute_error)"
   ]
  },
  {
   "cell_type": "code",
   "execution_count": 37,
   "metadata": {},
   "outputs": [
    {
     "name": "stdout",
     "output_type": "stream",
     "text": [
      "Metric: mean_absolute_error\n",
      "Folds accuracy: [0.3848571428571429, 0.36171428571428565, 0.42928571428571427, 0.3668571428571429, 0.39614285714285724, 0.35357142857142854, 0.32057142857142856, 0.3768571428571429, 0.3764285714285715, 0.4367142857142858]\n",
      "Mean accuracy: 0.38029999999999997\n",
      "Standard Deviation: 0.032693783344662886\n",
      "Variance: 0.0010688834693877564\n"
     ]
    }
   ],
   "source": [
    "# Эксперимент 4\n",
    "# Первый уровень - три модели: дерево, линейная регрессия и случайный лес\n",
    "# Второй уровень: случайный лес\n",
    "# Результат хуже чем в эксперименте 3\n",
    "stacker = Regressor(dataset=stack_ds3, estimator=RandomForestRegressor)\n",
    "results = stacker.validate(k=10,scorer=mean_absolute_error)"
   ]
  },
  {
   "cell_type": "code",
   "execution_count": 41,
   "metadata": {},
   "outputs": [],
   "source": [
    "# Результаты\n",
    "array_labels = ['LR','TREE', 'GB', 'RF', 'TREE+LR=>LR', \n",
    "                'TREE+LR=>RF', 'TREE+LR+RF=>LR', 'TREE+LR+RF=>RF']\n",
    "array_mae = [0.25666666666666665, 0.33, 0.27666666666666667, \n",
    "             0.28, 0.27571428571428575, 0.35705714285714285, 0.28, \n",
    "             0.38029999999999997]"
   ]
  },
  {
   "cell_type": "code",
   "execution_count": 42,
   "metadata": {},
   "outputs": [],
   "source": [
    "def vis_models_quality(array_metric, array_labels, str_header, figsize=(5, 5)):\n",
    "    fig, ax1 = plt.subplots(figsize=figsize)\n",
    "    pos = np.arange(len(array_metric))\n",
    "    rects = ax1.barh(pos, array_metric,\n",
    "                     align='center',\n",
    "                     height=0.5, \n",
    "                     tick_label=array_labels)\n",
    "    ax1.set_title(str_header)\n",
    "    for a,b in zip(pos, array_metric):\n",
    "        plt.text(0.2, a-0.1, str(round(b,3)), color='white')\n",
    "    plt.show()"
   ]
  },
  {
   "cell_type": "code",
   "execution_count": 43,
   "metadata": {},
   "outputs": [
    {
     "data": {
      "image/png": "[encoded data removed]",
      "text/plain": [
       "<Figure size 360x360 with 1 Axes>"
      ]
     },
     "metadata": {},
     "output_type": "display_data"
    }
   ],
   "source": [
    "# Визуализация результатов\n",
    "vis_models_quality(array_mae, array_labels, 'MAE для моделей стекинга')"
   ]
  },
  {
   "cell_type": "markdown",
   "metadata": {},
   "source": [
    "Вывод: лучший результат стекинга сравним с наиболее сильной моделью 1 уровня (логистической регрессией)."
   ]
  }
 ],
 "metadata": {
  "kernelspec": {
   "display_name": "Python 3.9.9 ('venv': venv)",
   "language": "python",
   "name": "python3"
  },
  "language_info": {
   "codemirror_mode": {
    "name": "ipython",
    "version": 3
   },
   "file_extension": ".py",
   "mimetype": "text/x-python",
   "name": "python",
   "nbconvert_exporter": "python",
   "pygments_lexer": "ipython3",
   "version": "3.9.9"
  },
  "orig_nbformat": 4,
  "vscode": {
   "interpreter": {
    "hash": "7299411f274db08d71a32cfd4eccf800a49003397182392a791bc1bc769eb3c7"
   }
  }
 },
 "nbformat": 4,
 "nbformat_minor": 2
}
